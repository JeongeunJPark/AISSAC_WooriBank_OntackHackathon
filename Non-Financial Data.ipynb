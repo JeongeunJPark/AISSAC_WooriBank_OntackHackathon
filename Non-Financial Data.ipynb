{
 "cells": [
  {
   "cell_type": "markdown",
   "id": "velvet-fireplace",
   "metadata": {},
   "source": [
    "## 중고거래 비금융 데이터 항목 \n",
    "\n",
    "1. 자격증 개수 (0~20) - CertificateNums\n",
    "2. 헌혈, 봉사 시간 (0~200) - VolunteerHours\n",
    "3. 기부 유무 (0 또는 1) - Donation\n",
    "4. 근속 년 수 (0~50) - YearsOfService\n",
    "5. 과태료 누적 횟수(-)(-20 ~ 0) - FineNums\n",
    "6. 한 달 쇼핑 횟수 (0~15) - ShoppingNums\n",
    "7. 한 달 쇼핑 금액 (0~100만) - ShoppingAmount\n",
    "8. 주식 투자 유무 (0 또는 1) - Stock\n",
    "9. 부동산 검색 횟수 (0~10) - RealEstateSearch\n",
    "10. 전기차 소지 유무 (1 또는 0) - ElectricCar\n",
    "11. BMI 수치 (10~ 45) - BMI\n",
    "12. 성별 (0 또는 1) - Sex\n",
    "13. 나이대 (1~9) - Age\n",
    "14. 한달 여행 횟수 (0~5) - TravelNums \n",
    "15. SNS 친구 수 (0~300) - SNSFriends\n",
    "16. 한 달 읽은 책 수 (0~30) - BookNums\n",
    "17. 한 달 대중교통 사용 횟수 (0~30) - UseTrafficNums\n",
    "\n",
    "   \n",
    "   \n",
    "매너 온도  "
   ]
  },
  {
   "cell_type": "code",
   "execution_count": null,
   "id": "responsible-missouri",
   "metadata": {},
   "outputs": [],
   "source": [
    "NonFinancialData = pd.DataFrame({'CertificateNums':[],\n",
    "                             'VolunteerHours':[],\n",
    "                             'Donation':[],\n",
    "                             'YearsOfService': [],\n",
    "                                'FineNums': []})\n",
    "NonFinancialData"
   ]
  },
  {
   "cell_type": "code",
   "execution_count": null,
   "id": "about-peeing",
   "metadata": {},
   "outputs": [],
   "source": [
    "CertificateNums = []"
   ]
  },
  {
   "cell_type": "code",
   "execution_count": null,
   "id": "neither-olympus",
   "metadata": {},
   "outputs": [],
   "source": [
    "VolunteerHours = []"
   ]
  },
  {
   "cell_type": "code",
   "execution_count": null,
   "id": "foster-detection",
   "metadata": {},
   "outputs": [],
   "source": [
    "Donation = []"
   ]
  },
  {
   "cell_type": "code",
   "execution_count": null,
   "id": "italic-effect",
   "metadata": {},
   "outputs": [],
   "source": [
    "YearsOfService = []"
   ]
  }
 ],
 "metadata": {
  "kernelspec": {
   "display_name": "Python 3",
   "language": "python",
   "name": "python3"
  },
  "language_info": {
   "codemirror_mode": {
    "name": "ipython",
    "version": 3
   },
   "file_extension": ".py",
   "mimetype": "text/x-python",
   "name": "python",
   "nbconvert_exporter": "python",
   "pygments_lexer": "ipython3",
   "version": "3.7.9"
  }
 },
 "nbformat": 4,
 "nbformat_minor": 5
}
